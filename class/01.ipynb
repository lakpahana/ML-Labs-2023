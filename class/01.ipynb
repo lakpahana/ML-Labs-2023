{
 "cells": [
  {
   "cell_type": "code",
   "execution_count": 1,
   "metadata": {},
   "outputs": [
    {
     "name": "stdout",
     "output_type": "stream",
     "text": [
      "hello\n"
     ]
    }
   ],
   "source": [
    "print(\"hello\")"
   ]
  },
  {
   "cell_type": "code",
   "execution_count": 2,
   "metadata": {},
   "outputs": [
    {
     "name": "stdout",
     "output_type": "stream",
     "text": [
      "2\n"
     ]
    }
   ],
   "source": [
    "print(1+1)"
   ]
  },
  {
   "cell_type": "code",
   "execution_count": 4,
   "metadata": {},
   "outputs": [
    {
     "name": "stdout",
     "output_type": "stream",
     "text": [
      "5\n",
      "<class 'str'>\n"
     ]
    }
   ],
   "source": [
    "a = \"5\"\n",
    "print(a)\n",
    "print(type(a))"
   ]
  },
  {
   "cell_type": "code",
   "execution_count": 6,
   "metadata": {},
   "outputs": [
    {
     "name": "stdout",
     "output_type": "stream",
     "text": [
      "36\n"
     ]
    }
   ],
   "source": [
    "num1 = int(input(\"Enter number 1:\"))\n",
    "num2 = int(input(\"Enter number 2:\"))\n",
    "print(num1 + num2)"
   ]
  },
  {
   "cell_type": "code",
   "execution_count": 9,
   "metadata": {},
   "outputs": [
    {
     "name": "stdout",
     "output_type": "stream",
     "text": [
      "<class 'int'>\n",
      "<class 'float'>\n",
      "<class 'str'>\n",
      "<class 'bool'>\n"
     ]
    }
   ],
   "source": [
    "a = 100\n",
    "b = 100.0\n",
    "c =\"100\"\n",
    "d = True;\n",
    "\n",
    "print(type(a))\n",
    "print(type(b))\n",
    "print(type(c))\n",
    "print(type(d))"
   ]
  },
  {
   "cell_type": "code",
   "execution_count": 10,
   "metadata": {},
   "outputs": [],
   "source": [
    "my_file = open(\"output_file.txt\",'w')\n",
    "\n",
    "vars = \"This is a string\\n\"\n",
    "my_file.write(vars)\n",
    "\n",
    "var3 = 10\n",
    "my_file.write(str(var3))\n",
    "\n",
    "my_file.write(\"\\n\")\n",
    "\n",
    "var4 = 20.0\n",
    "my_file.write(str(var4))\n",
    "\n",
    "my_file.close()"
   ]
  },
  {
   "cell_type": "code",
   "execution_count": 11,
   "metadata": {},
   "outputs": [
    {
     "name": "stdout",
     "output_type": "stream",
     "text": [
      "This is a string\n",
      "10\n",
      "20.0\n"
     ]
    }
   ],
   "source": [
    "my_file = open(\"output_file.txt\",'r')\n",
    "content = my_file.read()\n",
    "print(content)\n",
    "my_file.close()"
   ]
  },
  {
   "cell_type": "code",
   "execution_count": 13,
   "metadata": {},
   "outputs": [
    {
     "name": "stdout",
     "output_type": "stream",
     "text": [
      "String:  This is a string\n",
      "\n",
      "Integer:  10\n",
      "\n",
      "Float:  20.0\n",
      "String:  <class 'str'>\n",
      "Integer:  <class 'str'>\n",
      "Float:  <class 'str'>\n"
     ]
    }
   ],
   "source": [
    "my_file = open(\"output_file.txt\",'r')\n",
    "\n",
    "vars = my_file.readline()\n",
    "var5 = my_file.readline()\n",
    "var6 = my_file.readline()\n",
    "\n",
    "print(\"String: \", vars)\n",
    "print(\"Integer: \", var5)\n",
    "print(\"Float: \", var6)\n",
    "\n",
    "print(\"String: \", type(vars))\n",
    "print(\"Integer: \", type(var5))\n",
    "print(\"Float: \", type(var6))\n",
    "my_file.close()"
   ]
  },
  {
   "cell_type": "code",
   "execution_count": 22,
   "metadata": {},
   "outputs": [
    {
     "name": "stdout",
     "output_type": "stream",
     "text": [
      "2.5\n",
      "2\n",
      "2.0\n",
      "helloworld\n",
      "85\n",
      "hellohellohellohellohello\n"
     ]
    }
   ],
   "source": [
    "print(5/2)\n",
    "print(5//2)\n",
    "print(5.0//2)\n",
    "print(\"hello\" + \"world\")\n",
    "print(10+3*5**2)\n",
    "print(\"hello\"*5)\n"
   ]
  },
  {
   "cell_type": "code",
   "execution_count": null,
   "metadata": {},
   "outputs": [],
   "source": []
  },
  {
   "cell_type": "code",
   "execution_count": 23,
   "metadata": {},
   "outputs": [
    {
     "name": "stdout",
     "output_type": "stream",
     "text": [
      "[1, 2, 3, 4, 5]\n",
      "<class 'list'>\n"
     ]
    }
   ],
   "source": [
    "a = [ 1,2,3,4,5]\n",
    "print(a)\n",
    "print(type(a))"
   ]
  },
  {
   "cell_type": "code",
   "execution_count": 24,
   "metadata": {},
   "outputs": [
    {
     "name": "stdout",
     "output_type": "stream",
     "text": [
      "[1, '2', 3]\n",
      "<class 'list'>\n"
     ]
    }
   ],
   "source": [
    "a= [ 1, \"2\" , 3 ]\n",
    "print(a)\n",
    "print(type(a))"
   ]
  },
  {
   "cell_type": "code",
   "execution_count": 27,
   "metadata": {},
   "outputs": [
    {
     "name": "stdout",
     "output_type": "stream",
     "text": [
      "a is smalle\n",
      "10\n",
      "12\n"
     ]
    }
   ],
   "source": [
    "a = 10;\n",
    "b = 12\n",
    "if (a < b) :\n",
    "    print(\"a is smalle\")\n",
    "    print(a)\n",
    "else:\n",
    "    print(\"a is not smaller\")\n",
    "    print(b)"
   ]
  },
  {
   "cell_type": "code",
   "execution_count": 28,
   "metadata": {},
   "outputs": [
    {
     "name": "stdout",
     "output_type": "stream",
     "text": [
      "4\n",
      "16\n",
      "36\n",
      "49\n",
      "81\n"
     ]
    }
   ],
   "source": [
    "a = [2,4,6,7,9]\n",
    "for x in a:\n",
    "    print(x**2)"
   ]
  },
  {
   "cell_type": "code",
   "execution_count": 32,
   "metadata": {},
   "outputs": [
    {
     "name": "stdout",
     "output_type": "stream",
     "text": [
      "1\n",
      "3\n",
      "5\n",
      "7\n",
      "9\n"
     ]
    }
   ],
   "source": [
    "for x in range(1,10,2):\n",
    "    print(x)"
   ]
  },
  {
   "cell_type": "code",
   "execution_count": null,
   "metadata": {},
   "outputs": [],
   "source": []
  },
  {
   "cell_type": "markdown",
   "metadata": {},
   "source": [
    "## Lists"
   ]
  },
  {
   "cell_type": "code",
   "execution_count": 40,
   "metadata": {},
   "outputs": [
    {
     "name": "stdout",
     "output_type": "stream",
     "text": [
      "[2, 5, 3, 8, 6]\n",
      "5\n",
      "6\n"
     ]
    }
   ],
   "source": [
    "x = [2, 5 , 3, 8, 6]\n",
    "print(x)\n",
    "print(x[1])\n",
    "print(x[-1])\n"
   ]
  },
  {
   "cell_type": "code",
   "execution_count": 41,
   "metadata": {},
   "outputs": [
    {
     "name": "stdout",
     "output_type": "stream",
     "text": [
      "[2, 5, 3, 8, 6, 10]\n"
     ]
    }
   ],
   "source": [
    "x.append(10)\n",
    "print(x)"
   ]
  },
  {
   "cell_type": "code",
   "execution_count": 42,
   "metadata": {},
   "outputs": [
    {
     "name": "stdout",
     "output_type": "stream",
     "text": [
      "[2, 5, 3, 8, 6, 10, 'test']\n"
     ]
    }
   ],
   "source": [
    "x.append(\"test\")\n",
    "print(x)"
   ]
  },
  {
   "cell_type": "code",
   "execution_count": 49,
   "metadata": {},
   "outputs": [
    {
     "name": "stdout",
     "output_type": "stream",
     "text": [
      "[2, 5, 3, 8, 6, 10, 'test']\n",
      "3\n",
      "[5, 3]\n",
      "[2, 5, 3]\n",
      "[8, 6, 10, 'test']\n",
      "[2, 5, 3, 8, 6, 10, 'test']\n",
      "[2, 5, 3, 8, 6, 10]\n"
     ]
    }
   ],
   "source": [
    "print(x)\n",
    "print(x[2])\n",
    "print(x[1:3])\n",
    "print(x[:3])\n",
    "print(x[3:])\n",
    "print(x[:])\n",
    "print(x[:-1])"
   ]
  },
  {
   "cell_type": "code",
   "execution_count": 52,
   "metadata": {},
   "outputs": [
    {
     "name": "stdout",
     "output_type": "stream",
     "text": [
      "[2, 0, 0, 0, 8, 6, 10, 'test']\n",
      "[2, 1, 2, -1, 0, 8, 6, 10, 'test']\n"
     ]
    }
   ],
   "source": [
    "print(x)\n",
    "x[1:3] = [1, 2, -1]\n",
    "print(x)"
   ]
  },
  {
   "cell_type": "code",
   "execution_count": 53,
   "metadata": {},
   "outputs": [
    {
     "name": "stdout",
     "output_type": "stream",
     "text": [
      "[4, 9, 36, 16, 49]\n"
     ]
    }
   ],
   "source": [
    "A = [ 2, 3, 6, 4, 7]\n",
    "B = []\n",
    "\n",
    "for x in A:\n",
    "    B.append(x**2)\n",
    "\n",
    "print(B)\n",
    "\n"
   ]
  },
  {
   "cell_type": "code",
   "execution_count": 54,
   "metadata": {},
   "outputs": [
    {
     "name": "stdout",
     "output_type": "stream",
     "text": [
      "{'a': 'cat', 'b': 'dog', 1: 'bird'}\n"
     ]
    }
   ],
   "source": [
    "A = {'a':'cat','b':'dog',1:'bird'}\n",
    "print(A)\n"
   ]
  },
  {
   "cell_type": "code",
   "execution_count": 56,
   "metadata": {},
   "outputs": [
    {
     "name": "stdout",
     "output_type": "stream",
     "text": [
      "cat\n",
      "bird\n"
     ]
    }
   ],
   "source": [
    "print(A['a'])\n",
    "print(A[1])"
   ]
  },
  {
   "cell_type": "code",
   "execution_count": 57,
   "metadata": {},
   "outputs": [
    {
     "name": "stdout",
     "output_type": "stream",
     "text": [
      "{'a': 'cat', 'b': 'dog', 1: 'bird', 'c': 'car'}\n"
     ]
    }
   ],
   "source": [
    "A['c'] = \"car\"\n",
    "print(A)"
   ]
  },
  {
   "cell_type": "code",
   "execution_count": 59,
   "metadata": {},
   "outputs": [
    {
     "name": "stdout",
     "output_type": "stream",
     "text": [
      "a : cat\n",
      "b : dog\n",
      "1 : bird\n",
      "c : car\n"
     ]
    }
   ],
   "source": [
    "for key in A:\n",
    "    print(f\"{key} : {A[key]}\")"
   ]
  },
  {
   "cell_type": "code",
   "execution_count": 60,
   "metadata": {},
   "outputs": [
    {
     "name": "stdout",
     "output_type": "stream",
     "text": [
      "{'223', 1, 'b', 'a'}\n"
     ]
    }
   ],
   "source": [
    "S = {'a','b',1,'223'}\n",
    "print(S)"
   ]
  },
  {
   "cell_type": "code",
   "execution_count": 64,
   "metadata": {},
   "outputs": [
    {
     "name": "stdout",
     "output_type": "stream",
     "text": [
      "{1, '223', 'a', 'b', 'c'}\n",
      "{1, '223', 'a', 'b', 'c'}\n"
     ]
    }
   ],
   "source": [
    "S.add('c')\n",
    "print(S)\n",
    "S.add('a')\n",
    "print(S)"
   ]
  },
  {
   "cell_type": "code",
   "execution_count": 68,
   "metadata": {},
   "outputs": [
    {
     "name": "stdout",
     "output_type": "stream",
     "text": [
      "{(0, 1): 0, (1, 2): 1, (2, 3): 2, (3, 4): 3, (4, 5): 4}\n",
      "2\n"
     ]
    }
   ],
   "source": [
    "d = {(x, x + 1): x for x in range(5)}  # Create a dictionary with tuple keys\n",
    "print(d)\n",
    "t = (2,3)\n",
    "print(d[t])"
   ]
  },
  {
   "cell_type": "code",
   "execution_count": null,
   "metadata": {},
   "outputs": [],
   "source": []
  }
 ],
 "metadata": {
  "kernelspec": {
   "display_name": "ML",
   "language": "python",
   "name": "python3"
  },
  "language_info": {
   "codemirror_mode": {
    "name": "ipython",
    "version": 3
   },
   "file_extension": ".py",
   "mimetype": "text/x-python",
   "name": "python",
   "nbconvert_exporter": "python",
   "pygments_lexer": "ipython3",
   "version": "3.8.0"
  }
 },
 "nbformat": 4,
 "nbformat_minor": 2
}
