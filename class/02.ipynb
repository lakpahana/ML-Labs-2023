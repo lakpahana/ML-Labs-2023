{
 "cells": [
  {
   "cell_type": "code",
   "execution_count": 2,
   "metadata": {},
   "outputs": [],
   "source": [
    "import numpy as np"
   ]
  },
  {
   "cell_type": "code",
   "execution_count": 10,
   "metadata": {},
   "outputs": [
    {
     "name": "stdout",
     "output_type": "stream",
     "text": [
      "[1.+0.j 2.+0.j 3.+0.j 4.+0.j 5.+0.j 6.+0.j]\n",
      "<class 'numpy.ndarray'>\n",
      "(1+0j)\n"
     ]
    },
    {
     "data": {
      "text/plain": [
       "numpy.complex64"
      ]
     },
     "execution_count": 10,
     "metadata": {},
     "output_type": "execute_result"
    }
   ],
   "source": [
    "A = np.array([1,2,3,4,5,6],dtype='c8')\n",
    "print(A)\n",
    "print(type(A))\n",
    "print(A[0])\n",
    "type(A[0])"
   ]
  },
  {
   "cell_type": "code",
   "execution_count": 11,
   "metadata": {},
   "outputs": [
    {
     "name": "stdout",
     "output_type": "stream",
     "text": [
      "[1, 4, 5.6, 5, 7]\n"
     ]
    }
   ],
   "source": [
    "a = [1, 4,5.6, 5, 7]\n",
    "arr = np.array(a)\n",
    "print(a)\n"
   ]
  },
  {
   "cell_type": "code",
   "execution_count": 19,
   "metadata": {},
   "outputs": [
    {
     "name": "stdout",
     "output_type": "stream",
     "text": [
      "[10.   9.5  9.   8.5  8.   7.5  7.   6.5  6.   5.5]\n"
     ]
    }
   ],
   "source": [
    "a = np.arange(10,5,-0.5)\n",
    "print(a)\n"
   ]
  },
  {
   "cell_type": "code",
   "execution_count": 25,
   "metadata": {},
   "outputs": [
    {
     "name": "stdout",
     "output_type": "stream",
     "text": [
      "[ 0.   0.1  0.2  0.3  0.4  0.5  0.6  0.7  0.8  0.9  1.   1.1  1.2  1.3\n",
      "  1.4  1.5  1.6  1.7  1.8  1.9  2.   2.1  2.2  2.3  2.4  2.5  2.6  2.7\n",
      "  2.8  2.9  3.   3.1  3.2  3.3  3.4  3.5  3.6  3.7  3.8  3.9  4.   4.1\n",
      "  4.2  4.3  4.4  4.5  4.6  4.7  4.8  4.9  5.   5.1  5.2  5.3  5.4  5.5\n",
      "  5.6  5.7  5.8  5.9  6.   6.1  6.2  6.3  6.4  6.5  6.6  6.7  6.8  6.9\n",
      "  7.   7.1  7.2  7.3  7.4  7.5  7.6  7.7  7.8  7.9  8.   8.1  8.2  8.3\n",
      "  8.4  8.5  8.6  8.7  8.8  8.9  9.   9.1  9.2  9.3  9.4  9.5  9.6  9.7\n",
      "  9.8  9.9 10. ]\n"
     ]
    }
   ],
   "source": [
    "a = np.linspace(0,10,101)\n",
    "print(a)"
   ]
  },
  {
   "cell_type": "code",
   "execution_count": null,
   "metadata": {},
   "outputs": [],
   "source": []
  },
  {
   "cell_type": "code",
   "execution_count": 35,
   "metadata": {},
   "outputs": [
    {
     "name": "stdout",
     "output_type": "stream",
     "text": [
      "[[0.35965258 0.19806571 0.87523864]\n",
      " [0.11983466 0.6425838  0.34534708]\n",
      " [0.42821054 0.48879827 0.29339545]\n",
      " [0.36492926 0.51692676 0.09521793]]\n",
      "0.642583804131837\n",
      "[0.11983466 0.6425838  0.34534708]\n",
      "[0.6425838  0.48879827 0.51692676]\n",
      "[[0.35965258 0.19806571]\n",
      " [0.11983466 0.6425838 ]]\n"
     ]
    }
   ],
   "source": [
    "arr = np.random.rand(4,3)\n",
    "print(arr)\n",
    "print(arr[1,1])\n",
    "print(arr[1])\n",
    "print(arr[1:,1])\n",
    "print(arr[:2,:2])"
   ]
  },
  {
   "cell_type": "code",
   "execution_count": 36,
   "metadata": {},
   "outputs": [
    {
     "name": "stdout",
     "output_type": "stream",
     "text": [
      "[[1 1 1]\n",
      " [1 1 1]]\n"
     ]
    }
   ],
   "source": [
    "zeros = np.ones((2,3), dtype='i4')\n",
    "print(zeros)"
   ]
  },
  {
   "cell_type": "code",
   "execution_count": 42,
   "metadata": {},
   "outputs": [
    {
     "name": "stdout",
     "output_type": "stream",
     "text": [
      "[[0. 0. 0. 0. 0.]\n",
      " [0. 0. 0. 0. 0.]\n",
      " [1. 0. 0. 0. 0.]\n",
      " [0. 1. 0. 0. 0.]\n",
      " [0. 0. 1. 0. 0.]]\n"
     ]
    }
   ],
   "source": [
    "a = np.eye(5,k=-2)\n",
    "print(a)"
   ]
  },
  {
   "cell_type": "code",
   "execution_count": 43,
   "metadata": {},
   "outputs": [
    {
     "name": "stdout",
     "output_type": "stream",
     "text": [
      "[[1. 0. 0. 0.]\n",
      " [1. 1. 0. 0.]\n",
      " [1. 1. 1. 0.]]\n"
     ]
    }
   ],
   "source": [
    "a = np.tri(3,4,)\n",
    "print(a)"
   ]
  },
  {
   "cell_type": "code",
   "execution_count": 47,
   "metadata": {},
   "outputs": [
    {
     "name": "stdout",
     "output_type": "stream",
     "text": [
      "[[3]\n",
      " [1]\n",
      " [7]]\n"
     ]
    }
   ],
   "source": [
    "a = np.random.randint(1,10,size=(3,1))\n",
    "print(a)"
   ]
  },
  {
   "cell_type": "code",
   "execution_count": 48,
   "metadata": {},
   "outputs": [
    {
     "name": "stdout",
     "output_type": "stream",
     "text": [
      "[[24 89 24 17 86]\n",
      " [64 70 53 22 38]\n",
      " [89 73 94 86 15]\n",
      " [35 97 15 80 70]\n",
      " [20 72 36 24 42]]\n",
      "[24 70 94 80 42]\n"
     ]
    }
   ],
   "source": [
    "a = np.random.randint(10,99,size=(5,5))\n",
    "d = np.diag(a)\n",
    "print(a)\n",
    "print(d)"
   ]
  },
  {
   "cell_type": "code",
   "execution_count": 50,
   "metadata": {},
   "outputs": [
    {
     "name": "stdout",
     "output_type": "stream",
     "text": [
      "[10 11 12 13 14 15 16 17 18 19 20 21 22 23 24]\n",
      "[16 11 14 21 20 23 17 12 24 19 22 18 10 13 15]\n"
     ]
    }
   ],
   "source": [
    "arr = np.arange(10,25)\n",
    "print(arr)\n",
    "print(np.random.permutation(arr))"
   ]
  },
  {
   "cell_type": "code",
   "execution_count": 58,
   "metadata": {},
   "outputs": [
    {
     "name": "stdout",
     "output_type": "stream",
     "text": [
      "[[0.58868155 0.83130884 0.36294696 0.13852225 0.87230459]\n",
      " [0.88416344 0.58444071 0.05199934 0.46229027 0.22163857]\n",
      " [0.24469133 0.61582177 0.45299249 0.47103121 0.03823737]\n",
      " [0.9193868  0.2638349  0.21529141 0.52808054 0.89461507]\n",
      " [0.00876216 0.68560547 0.02123096 0.50305211 0.04266247]]\n",
      "[[0.58868155 0.83130884 0.36294696 0.13852225 0.87230459]\n",
      " [0.88416344 0.58444071 0.05199934 0.46229027 0.22163857]\n",
      " [0.24469133 0.61582177 0.45299249 0.47103121 0.03823737]\n",
      " [0.9193868  0.2638349  0.21529141 0.52808054 0.89461507]\n",
      " [0.00876216 0.68560547 0.02123096 0.50305211 0.04266247]]\n"
     ]
    }
   ],
   "source": [
    "a = np.random.rand(5,5)\n",
    "print(a)\n",
    "b = np.ones((5,5))\n",
    "c = a * b\n",
    "print(c)"
   ]
  },
  {
   "cell_type": "code",
   "execution_count": 65,
   "metadata": {},
   "outputs": [
    {
     "name": "stdout",
     "output_type": "stream",
     "text": [
      "[0.  0.5 1.  1.5 2.  2.5 3.  3.5 4.  4.5 5. ]\n",
      "[ 0.          0.47942554  0.84147098  0.99749499  0.90929743  0.59847214\n",
      "  0.14112001 -0.35078323 -0.7568025  -0.97753012 -0.95892427]\n"
     ]
    }
   ],
   "source": [
    "a = np.linspace(0,5,11)\n",
    "print(a)\n",
    "print(np.sin(a))"
   ]
  },
  {
   "cell_type": "code",
   "execution_count": 68,
   "metadata": {},
   "outputs": [
    {
     "data": {
      "image/png": "[encoded data removed]",
      "text/plain": [
       "<Figure size 640x480 with 1 Axes>"
      ]
     },
     "metadata": {},
     "output_type": "display_data"
    }
   ],
   "source": [
    "import matplotlib.pyplot as plt\n",
    "import numpy as np\n",
    "\n",
    "x = np.arange(-10,10,0.01)\n",
    "y = np.sin(x)\n",
    "y2 = np.cos(x)\n",
    "y3 = 0.01*x*x \n",
    "\n",
    "plt.plot(x,y)\n",
    "plt.plot(x,y2)\n",
    "plt.plot(x,y3)\n",
    "plt.show()"
   ]
  },
  {
   "cell_type": "code",
   "execution_count": 81,
   "metadata": {},
   "outputs": [
    {
     "name": "stdout",
     "output_type": "stream",
     "text": [
      "[[54 55 38 13]\n",
      " [69 69 96 58]\n",
      " [36 76 81 59]\n",
      " [25 24 95 28]\n",
      " [26 21 41 59]]\n",
      "[210 245 351 217]\n",
      "[160 292 252 172 147]\n",
      "[69 76 96 59]\n",
      "[1 2 1 2]\n",
      "24.220394299019986\n"
     ]
    }
   ],
   "source": [
    "a = np.random.randint(10,99,size=(5,4))\n",
    "print(a)\n",
    "print(np.sum(a,axis=0))\n",
    "print(np.sum(a,axis=1))\n",
    "print(np.max(a,axis=0))\n",
    "print(np.argmax(a,axis=0))\n",
    "print(np.std(a))"
   ]
  },
  {
   "cell_type": "code",
   "execution_count": null,
   "metadata": {},
   "outputs": [],
   "source": []
  },
  {
   "cell_type": "code",
   "execution_count": 88,
   "metadata": {},
   "outputs": [
    {
     "name": "stdout",
     "output_type": "stream",
     "text": [
      "55\n",
      "55\n",
      "[[12 13]\n",
      " [22 23]\n",
      " [32 33]\n",
      " [42 43]]\n"
     ]
    }
   ],
   "source": [
    "a = np.arange(100).reshape(10,10)\n",
    "print(a[5][5])\n",
    "print(a[5,5])\n",
    "print(a[1:5,2:4])"
   ]
  },
  {
   "cell_type": "code",
   "execution_count": 90,
   "metadata": {},
   "outputs": [
    {
     "name": "stdout",
     "output_type": "stream",
     "text": [
      "[[ 0  1  2  3  4  5  6  7  8  9]\n",
      " [10 11 12 13 14 15 16 17 18 19]\n",
      " [20 21 22 23 24 25 26 27 28 29]\n",
      " [30 31 32 33 34 35 36 37 38 39]\n",
      " [40 41 42 43 44 45 46 47 48 49]\n",
      " [50 51 52 53 54 55 56 57 58 59]\n",
      " [60 61 62 63 64 65 66 67 68 69]\n",
      " [70 71 72 73 74 75 76 77 78 79]\n",
      " [80 81 82 83 84 85 86 87 88 89]\n",
      " [90 91 92 93 94 95 96 97 98 99]]\n",
      "[[False False False False False False False False False False]\n",
      " [False False False False False False False False False False]\n",
      " [False False False False False False False False False False]\n",
      " [False False False False False False False False False False]\n",
      " [False False False False False False False False False False]\n",
      " [False  True  True  True  True  True  True  True  True  True]\n",
      " [ True  True  True  True  True  True  True  True  True  True]\n",
      " [ True  True  True  True  True  True  True  True  True  True]\n",
      " [ True  True  True  True  True  True  True  True  True  True]\n",
      " [ True  True  True  True  True  True  True  True  True  True]]\n"
     ]
    }
   ],
   "source": [
    "a = np.arange(0,100).reshape(10,10)\n",
    "print(a)\n",
    "print(a > 50)"
   ]
  },
  {
   "cell_type": "code",
   "execution_count": 93,
   "metadata": {},
   "outputs": [
    {
     "name": "stdout",
     "output_type": "stream",
     "text": [
      "[[19 93 87 75 19]\n",
      " [92 94 16 29 71]\n",
      " [63 39 93 61 47]\n",
      " [98 87 13 42 58]\n",
      " [31 56 21 67 34]]\n",
      "[[19 39 13 29 19]\n",
      " [31 56 16 42 34]\n",
      " [63 87 21 61 47]\n",
      " [92 93 87 67 58]\n",
      " [98 94 93 75 71]]\n"
     ]
    }
   ],
   "source": [
    "a = np.random.randint(11,99,size=(5,5))\n",
    "print(a)\n",
    "print(np.sort(a,axis=0))"
   ]
  },
  {
   "cell_type": "code",
   "execution_count": null,
   "metadata": {},
   "outputs": [],
   "source": []
  }
 ],
 "metadata": {
  "kernelspec": {
   "display_name": "ML",
   "language": "python",
   "name": "python3"
  },
  "language_info": {
   "codemirror_mode": {
    "name": "ipython",
    "version": 3
   },
   "file_extension": ".py",
   "mimetype": "text/x-python",
   "name": "python",
   "nbconvert_exporter": "python",
   "pygments_lexer": "ipython3",
   "version": "3.8.0"
  }
 },
 "nbformat": 4,
 "nbformat_minor": 2
}
